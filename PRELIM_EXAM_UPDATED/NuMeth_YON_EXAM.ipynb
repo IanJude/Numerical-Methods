{
  "nbformat": 4,
  "nbformat_minor": 0,
  "metadata": {
    "colab": {
      "name": "NuMeth_YON_EXAM.ipynb",
      "provenance": [],
      "collapsed_sections": [],
      "include_colab_link": true
    },
    "kernelspec": {
      "name": "python3",
      "display_name": "Python 3"
    }
  },
  "cells": [
    {
      "cell_type": "markdown",
      "metadata": {
        "id": "view-in-github",
        "colab_type": "text"
      },
      "source": [
        "<a href=\"https://colab.research.google.com/github/IanJude/Numerical-Methods/blob/main/PRELIM_EXAM_UPDATED/NuMeth_YON_EXAM.ipynb\" target=\"_parent\"><img src=\"https://colab.research.google.com/assets/colab-badge.svg\" alt=\"Open In Colab\"/></a>"
      ]
    },
    {
      "cell_type": "markdown",
      "metadata": {
        "id": "Px37T-_PcASE"
      },
      "source": [
        "# YON User Manual\r\n",
        "\r\n",
        "D.M. Fajardo © 2021\r\n",
        "\r\n",
        "I.J. Timbungco © 2021\r\n",
        "\r\n",
        "M.A. Rodriguez © 2021\r\n",
        "\r\n",
        "N.K. Vitales © 2021\r\n",
        "\r\n",
        "## Methods\r\n",
        "\r\n",
        "For the final name of the module the group decided to be baby_roots for all methods of the roots of the equation and the final package name throughtout this sem is numeth_yon.\r\n",
        "\r\n",
        "\r\n",
        "* Brute force algorithm (f(x)=0)\r\n",
        "* Brute force algorithm (in terms of x)\r\n",
        "* Bisection Method\r\n",
        "* Regula Falsi Method (False Position) \r\n",
        "* Secant Method"
      ]
    },
    {
      "cell_type": "markdown",
      "metadata": {
        "id": "9N8kJPh39RBb"
      },
      "source": [
        "## Brute force algorithm (f(x)=0)\r\n",
        "\r\n",
        "baby_roots.f_of_x(f,roots,tol,i, epochs=100)\r\n",
        "\r\n",
        "**Definition:** Returns the roots and the epochs or iteration of the given *f* which is the function or equation using the rute force algorithm (f(x)=0).\r\n",
        "\r\n",
        "**Parameters:** \r\n",
        "*   **f:** is the function or equation that is need to be solve.\r\n",
        "*   **roots:** is the number of roots to be solve from the *f* or equation.\r\n",
        "*   **tol:** is for the tolerance.\r\n",
        "*   **i:** id for the incrementation to find the iteration.\r\n",
        "*   **epochs:** is where to stop\r\n",
        "\r\n",
        "**Return:**\r\n",
        "*   **x_roots:** returns the value of the roots of the given function.\r\n",
        "*   **end_epochs:** returns the value of the roots where have been found."
      ]
    },
    {
      "cell_type": "markdown",
      "metadata": {
        "id": "W3Kcq9vb9xM0"
      },
      "source": [
        "### Inside the Module"
      ]
    },
    {
      "cell_type": "code",
      "metadata": {
        "id": "kU09zbQV9way"
      },
      "source": [
        "### brute force algorithm (f(x)=0)\r\n",
        "def f_of_x(f,roots,tol,i, epochs=100):\r\n",
        "  \r\n",
        "    # f = eq # equation to be solved\r\n",
        "    x_roots=[] # list of roots\r\n",
        "    n_roots= roots # number of roots needed to find\r\n",
        "    incre = i #increments\r\n",
        "\r\n",
        "    # end_epochs= stop_epochs #ending point of the iteration\r\n",
        "    # epochs= start_epochs #starting point of the iteration\r\n",
        "    h = tol #tolerance is the starting guess\r\n",
        "\r\n",
        "    for epoch in range(epochs): # the list of iteration that will be using\r\n",
        "     if np.isclose(f(h),0): # applying current h or the tolerance in the equation and the approximation on f(x) = 0\r\n",
        "        x_roots.insert(len(x_roots), h) \r\n",
        "        end_epochs = epoch\r\n",
        "        if len(x_roots) == n_roots:\r\n",
        "          break # once the root is found it will stop and print the root\r\n",
        "     h+=incre # the change of value in h wherein if the roots did not find it will going to loop\r\n",
        "   \r\n",
        "    return x_roots, end_epochs # returning the value of the roots and the iteration or the epochs"
      ],
      "execution_count": null,
      "outputs": []
    },
    {
      "cell_type": "markdown",
      "metadata": {
        "id": "qIUWa52n97UB"
      },
      "source": [
        "### Example:"
      ]
    },
    {
      "cell_type": "code",
      "metadata": {
        "id": "QrK1Rhe8-hl6",
        "colab": {
          "base_uri": "https://localhost:8080/"
        },
        "outputId": "34a69027-7c3e-4c9e-f43f-da6076f49608"
      },
      "source": [
        "import numpy as np\r\n",
        "from numeth_yon import baby_roots as br\r\n",
        "sample1 = lambda x: x**2+x-2\r\n",
        "roots, epochs = br.f_of_x(sample1,2,-10,1,100)\r\n",
        "print(f\"The root is: {roots}, found at epoch {epochs+1}\")"
      ],
      "execution_count": null,
      "outputs": [
        {
          "output_type": "stream",
          "text": [
            "The root is: [-2, 1], found at epoch 12\n"
          ],
          "name": "stdout"
        }
      ]
    },
    {
      "cell_type": "markdown",
      "metadata": {
        "id": "3rNIhl9h9_mK"
      },
      "source": [
        "## Brute force algorithm (in terms of x)\r\n",
        "\r\n",
        "baby_roots.in_terms_of_x(eq,tol,epochs=100)\r\n",
        "\r\n",
        "**Definition:** Returns the roots and the epochs or iteration of the given *eq* which is the function or equation using the rute force algorithm (in terms of x).\r\n",
        "\r\n",
        "**Parameters:** \r\n",
        "*   ***eq:*** is the function or equation that is need to be solve.\r\n",
        "*   **tol:** is for the tolerance.\r\n",
        "*   **epochs:** is where to stop\r\n",
        "\r\n",
        "**Return:**\r\n",
        "*   **x_roots:** returns the value of the roots of the given function.\r\n",
        "*   **epochs:** returns the value of the roots where have been found."
      ]
    },
    {
      "cell_type": "markdown",
      "metadata": {
        "id": "GcjU2qcF-UxF"
      },
      "source": [
        "### Inside the Module:"
      ]
    },
    {
      "cell_type": "code",
      "metadata": {
        "id": "1zdfUzme-ak1"
      },
      "source": [
        "### brute force algorithm (in terms of x)\r\n",
        "def in_terms_of_x(eq,tol,epochs=100):\r\n",
        "\r\n",
        "    funcs = eq # equation to be solved\r\n",
        "    x_roots=[] # list of roots\r\n",
        "    n_roots = len(funcs) # How many roots needed to find according to the length of the equation\r\n",
        "    # epochs= begin_epochs # number of iteration\r\n",
        "    h = tol # tolerance or the guess to adjust\r\n",
        "\r\n",
        "    for func in funcs:\r\n",
        "      x = 0 # initial value or initial guess\r\n",
        "      for epoch in range(epochs): # the list of iteration that will be using\r\n",
        "        x_prime = func(x)\r\n",
        "        if np.allclose(x, x_prime,h): \r\n",
        "          x_roots.insert(len(x_roots),x_prime)\r\n",
        "          break # once the root is found it will stop and print the root\r\n",
        "        x = x_prime\r\n",
        "    return x_roots, epochs # returning the value of the roots and the iteration or the epochs"
      ],
      "execution_count": null,
      "outputs": []
    },
    {
      "cell_type": "markdown",
      "metadata": {
        "id": "P0bpgCPhACkk"
      },
      "source": [
        "### Example:"
      ]
    },
    {
      "cell_type": "code",
      "metadata": {
        "id": "8shqrMsfACt6",
        "colab": {
          "base_uri": "https://localhost:8080/"
        },
        "outputId": "1ae69c6f-fefa-439c-9cdb-35e582a427d0"
      },
      "source": [
        "import numpy as np\r\n",
        "from numeth_yon import baby_roots as br\r\n",
        "sample2 = lambda x: 2-x**2\r\n",
        "sample3 = lambda x: np.sqrt(2-x)\r\n",
        "\r\n",
        "funcs = [sample2, sample3]\r\n",
        "roots, epochs = br.in_terms_of_x(funcs,1e-05)\r\n",
        "print(\"The root is {} found after {} epochs\".format(roots,epochs))"
      ],
      "execution_count": null,
      "outputs": [
        {
          "output_type": "stream",
          "text": [
            "The root is [-2, 1.00000172977337] found after 100 epochs\n"
          ],
          "name": "stdout"
        }
      ]
    },
    {
      "cell_type": "markdown",
      "metadata": {
        "id": "4BJBNvNz_kBs"
      },
      "source": [
        "## Newton Raphson Method\r\n",
        "\r\n",
        "baby_roots.newt_raphson(f,f_prime, x_inits, epochs=100)\r\n",
        "\r\n",
        "\r\n",
        "**Definition:** Returns the roots and the epochs or the iteration of the given function or equation using the newton raphson method.\r\n",
        "\r\n",
        "**Parameters:** \r\n",
        "*   ***func:*** is the function or equation;\r\n",
        "*   **x_inits:** is where the expected roots is to find.\r\n",
        "*   **epochs:** is where to stop\r\n",
        "\r\n",
        "**Note:** while the *f* is the derivation.\r\n",
        "\r\n",
        "**Return:**\r\n",
        "*   **roots:** returns the value of the roots of the given function.\r\n",
        "*   **epochs:** returns the value of the roots where have been found."
      ]
    },
    {
      "cell_type": "markdown",
      "metadata": {
        "id": "rthqn7LR_lny"
      },
      "source": [
        "### Inside the Module:"
      ]
    },
    {
      "cell_type": "code",
      "metadata": {
        "id": "PJPS9NzA_l6J"
      },
      "source": [
        "### newton-raphson method\r\n",
        "def derivative(f,x,dx = 1e-6):\r\n",
        "    return (f(x + dx) - f(x - dx))/(2*dx)\r\n",
        "\r\n",
        "def newt_raphson(func,x_inits,tol=1e-6,epochs=100):\r\n",
        "    roots = [] # list of roots\r\n",
        "    for x_init in x_inits:\r\n",
        "        x = x_init\r\n",
        "        for epoch in range(epochs):\r\n",
        "            x_prime = derivative(func,x)\r\n",
        "            x_comp = x - (func(x)/x_prime)\r\n",
        "            if np.allclose(x, x_comp):\r\n",
        "                roots.append(np.round(x,3))\r\n",
        "                break # once the root is found it will stop and print the root\r\n",
        "            x = x_comp\r\n",
        "    return roots, epochs # returning the value of the roots and the iteration or the epochs"
      ],
      "execution_count": null,
      "outputs": []
    },
    {
      "cell_type": "markdown",
      "metadata": {
        "id": "Hn3lZMUx_mK9"
      },
      "source": [
        "### Example:"
      ]
    },
    {
      "cell_type": "code",
      "metadata": {
        "id": "dwqemJNT_m-L",
        "colab": {
          "base_uri": "https://localhost:8080/"
        },
        "outputId": "2c0cb54a-4830-4ac1-866f-b8309f456612"
      },
      "source": [
        "import numpy as np\r\n",
        "from numeth_yon import baby_roots as br\r\n",
        "func = lambda x: -5*x**5-2*x**4+x**2+1.33*x-0.4\r\n",
        "roots,epoch = br.newt_raphson(func,x_inits=np.arange (-10,5)) \r\n",
        "np_roots = np.array(roots)\r\n",
        "np_roots = np.unique(np_roots)\r\n",
        "print(\"The roots are {}, found at after: {}\".format(np_roots,epoch))"
      ],
      "execution_count": null,
      "outputs": [
        {
          "output_type": "stream",
          "text": [
            "The roots are [-0.801  0.261  0.637], found at after: 100\n"
          ],
          "name": "stdout"
        }
      ]
    },
    {
      "cell_type": "markdown",
      "metadata": {
        "id": "VXfyxBdBfWX9"
      },
      "source": [
        "## Bisection Method\r\n",
        "\r\n",
        "baby_roots.bisection(f, i1, i2, steps, h=1e-06, end_bisect=0)\r\n",
        "\r\n",
        "**Definition:** Returns the roots and the end of the bisection of the given *f* which is the function or equation using the bisection method.\r\n",
        "\r\n",
        "**Parameters:** \r\n",
        "*   ***f:*** is the function or equation that is need to be solve.\r\n",
        "*   **i1:** is the first interval or the minima of the expected root.\r\n",
        "*   **i2:** is the second interval or the maxima of the expected root.\r\n",
        "*   **steps:** is the increment of the intervals.\r\n",
        "*   **h:** is for the tolerance.\r\n",
        "*   **end_bisect:** is where to stop\r\n",
        "\r\n",
        "**Return:**\r\n",
        "*   **roots:** returns the value of the roots of the given function.\r\n",
        "*   **end_bisect:** returns the value of the roots where have been found."
      ]
    },
    {
      "cell_type": "markdown",
      "metadata": {
        "id": "l7OZ3epwnNqf"
      },
      "source": [
        "### Inside the Module:"
      ]
    },
    {
      "cell_type": "code",
      "metadata": {
        "id": "Hv3b8YZfcGSn"
      },
      "source": [
        "### Bisection Method\r\n",
        "def bisection(f, i1, i2, steps, h=1e-06, end_bisect = 0):                           \r\n",
        "  roots = [] # list of roots \r\n",
        "  int1 = []\r\n",
        "  int2 = []\r\n",
        "  for i in steps: # steps for the interval of i1 and i2\r\n",
        "    i1+=0.25\r\n",
        "    i2+=0.25\r\n",
        "    int1.append(i1)\r\n",
        "    int2.append(i2)\r\n",
        "  for (i1,i2) in zip(int1,int2):\r\n",
        "    y1, y2 = f(i1), f(i2)\r\n",
        "    if np.sign(y1) == np.sign(y2): # Check the signs of y are different                           \r\n",
        "      pass\r\n",
        "    else:\r\n",
        "      for bisect in range(0,100):                               \r\n",
        "        midp = np.mean([i1,i2]) # If the signs of y1 and y2 are opposite, calculate the x in the half of the interval\r\n",
        "        y_mid = f(midp) \r\n",
        "        y1 = f(i1)\r\n",
        "        if np.allclose(0,y1, h): # If y1 and y2 approach 0, halt.\r\n",
        "          roots.append(i1)\r\n",
        "          end_bisect = bisect\r\n",
        "          break\r\n",
        "        if np.sign(y1) != np.sign(y_mid): #root is in first-half interval\r\n",
        "          i2 = midp\r\n",
        "        else: #root is in second-half interval\r\n",
        "          i1 = midp \r\n",
        "  if roots is not None:\r\n",
        "    return roots, end_bisect"
      ],
      "execution_count": null,
      "outputs": []
    },
    {
      "cell_type": "markdown",
      "metadata": {
        "id": "SHJnYpIUni-6"
      },
      "source": [
        "### Example:"
      ]
    },
    {
      "cell_type": "code",
      "metadata": {
        "id": "srgWzPuHnlS5",
        "colab": {
          "base_uri": "https://localhost:8080/"
        },
        "outputId": "06efb8f9-1563-407d-b4fe-63622d971bc6"
      },
      "source": [
        "import numpy as np\r\n",
        "from numeth_yon import baby_roots as br\r\n",
        "g = lambda x: 2*x**4 + 3*x**3 - 11*x**2 - 9*x + 15\r\n",
        "roots, end_bisect = br.bisection(g, 0, 1.1, np.arange(-20,10))\r\n",
        "np_roots = np.array(roots)\r\n",
        "np_roots = np.round(np_roots,3)\r\n",
        "np_roots = np.unique(np_roots)\r\n",
        "print(\"The root is {} found after {} bisection\".format(np_roots,end_bisect))"
      ],
      "execution_count": null,
      "outputs": [
        {
          "output_type": "stream",
          "text": [
            "The root is [1.    1.732] found after 31 bisection\n"
          ],
          "name": "stdout"
        }
      ]
    },
    {
      "cell_type": "markdown",
      "metadata": {
        "id": "8M8wRC8NntAB"
      },
      "source": [
        "## Regula Falsi Method\r\n",
        "\r\n",
        "last_three_method.falsi(f, a, b, steps, h=1e-06, pos=0):\r\n",
        "\r\n",
        "**Definition:** Returns the roots and the position of the given *f* which is the function or equation using the regula falsi method.\r\n",
        "\r\n",
        "**Parameters:** \r\n",
        "*   ***f:*** is the function or equation that is need to be solve.\r\n",
        "*   **a:** is the first interval or the minima of the expected root.\r\n",
        "*   **b:** is the second interval or the maxima of the expected root.\r\n",
        "*   **steps:** is the increment of the intervals.\r\n",
        "*   **h:** is for the tolerance.\r\n",
        "*   **pos:** is where to stop\r\n",
        "\r\n",
        "**Return:**\r\n",
        "*   **roots:** returns the value of the roots of the given function.\r\n",
        "*   **pos:** returns the value of the roots where have been found."
      ]
    },
    {
      "cell_type": "markdown",
      "metadata": {
        "id": "Njwzn14aoT1i"
      },
      "source": [
        "### Inside the Module:"
      ]
    },
    {
      "cell_type": "code",
      "metadata": {
        "id": "ZE9rrte3oY-U"
      },
      "source": [
        "### Regula Falsi Method\r\n",
        "def falsi(f, a, b, steps, h=1e-06, pos=0):\r\n",
        "  roots = [] # list of roots \r\n",
        "  int1 = []\r\n",
        "  int2 = []\r\n",
        "  for i in steps: # steps for the interval of i1 and i2\r\n",
        "    a+=0.25\r\n",
        "    b+=0.25\r\n",
        "    int1.append(a)\r\n",
        "    int2.append(b)\r\n",
        "  for (a,b) in zip(int1,int2):\r\n",
        "    y1, y2 = f(a), f(b)\r\n",
        "    if np.allclose(0,y1): root = a\r\n",
        "    elif np.allclose(0,y2): root = b\r\n",
        "    elif np.sign(y1) == np.sign(y2): # Check the signs of y are different   \r\n",
        "      pass\r\n",
        "    else:\r\n",
        "        for pos in range(0,100):\r\n",
        "          c = b - (f(b)*(b-a))/(f(b)-f(a)) ##false root # Calculate the value of c and f(c)\r\n",
        "          if np.allclose(0,f(c), h): # If f(c) approaches 0, halt and obtain the root\r\n",
        "            roots.append(c)\r\n",
        "            break\r\n",
        "          if np.sign(f(a)) != np.sign(f(c)): b,y2 = c,f(c) # If f(c) and f(int1) have opposite signs \r\n",
        "          else: a,y1 = c,f(c) # set int1=c and y1=f(c)\r\n",
        "  if roots is not None:\r\n",
        "    return roots, pos"
      ],
      "execution_count": null,
      "outputs": []
    },
    {
      "cell_type": "markdown",
      "metadata": {
        "id": "o63LO0LvocwO"
      },
      "source": [
        "#### Example:"
      ]
    },
    {
      "cell_type": "code",
      "metadata": {
        "id": "Fu_vxsyLog6s",
        "colab": {
          "base_uri": "https://localhost:8080/"
        },
        "outputId": "b09089fa-c714-4ad6-b712-93b1febf8606"
      },
      "source": [
        "import numpy as np\r\n",
        "from numeth_yon import baby_roots as br\r\n",
        "g = lambda x: (x**2-2*x-2)*(3*x**2+10*x-8)\r\n",
        "roots, pos = br.falsi(g, 0, 1.1, np.arange(-10,10,0.25))\r\n",
        "np_roots = np.array(roots)\r\n",
        "np_roots = np.round(np_roots,3)\r\n",
        "np_roots = np.unique(np_roots)\r\n",
        "print(\"The root is {} found after {} false position\".format(np_roots,pos))"
      ],
      "execution_count": null,
      "outputs": [
        {
          "output_type": "stream",
          "text": [
            "The root is [0.667 2.732] found after 32 false position\n"
          ],
          "name": "stdout"
        }
      ]
    },
    {
      "cell_type": "markdown",
      "metadata": {
        "id": "hqJR2g5EohNk"
      },
      "source": [
        "## Secant Method\r\n",
        "\r\n",
        "last_three_method.secant(f, a, b, steps, epochs = 100):\r\n",
        "\r\n",
        "**Definition:** Returns the roots and the iteration or epochs of the given *f* which is the function or equation using the secant method.\r\n",
        "\r\n",
        "**Parameters:** \r\n",
        "*   ***f:*** is the function or equation that is need to be solve.\r\n",
        "*   **a:** is the first interval or the minima of the expected root.\r\n",
        "*   **b:** is the second interval or the maxima of the expected root.\r\n",
        "*   **steps:** is the increment of the intervals.\r\n",
        "*   **epochs:** is where to stop\r\n",
        "\r\n",
        "**Return:**\r\n",
        "*   **roots:** returns the value of the roots of the given function.\r\n",
        "*   **epochs:** returns the value of the roots where have been found."
      ]
    },
    {
      "cell_type": "markdown",
      "metadata": {
        "id": "N6_U1Gspqftp"
      },
      "source": [
        "### Inside the Module:"
      ]
    },
    {
      "cell_type": "code",
      "metadata": {
        "id": "aMRvhQXBqsXb"
      },
      "source": [
        "### Secant Method\r\n",
        "def secant(f, a, b, steps, epochs = 100):\r\n",
        "  roots = [] # list of roots \r\n",
        "  for i in steps: # steps for the interval of a and b\r\n",
        "    int1 = a+i # interval 'a' will become 'int1'\r\n",
        "    int2 = b+i # interval 'b' will become 'int2'\r\n",
        "    for epoch in range(epochs):\r\n",
        "      c = int2 - (f(int2)*(int2-int1))/(f(int2)-f(int1)) # Calculate for c\r\n",
        "      if np.allclose(int2,c): # If $x_2-x_1 approx 0, halt and retrieve root\r\n",
        "        roots.append(c)\r\n",
        "        break\r\n",
        "      else:\r\n",
        "        int1,int2 = int2,c # Else int1 = int2 and int2 = c\r\n",
        "  return roots, epochs"
      ],
      "execution_count": null,
      "outputs": []
    },
    {
      "cell_type": "markdown",
      "metadata": {
        "id": "0hlQOVf8q-dL"
      },
      "source": [
        "### Example:"
      ]
    },
    {
      "cell_type": "code",
      "metadata": {
        "id": "gl_IGiSVrDBW",
        "colab": {
          "base_uri": "https://localhost:8080/"
        },
        "outputId": "2711a4c5-108f-4930-dd53-3d5bf6e0c75f"
      },
      "source": [
        "import numpy as np\r\n",
        "from numeth_yon import baby_roots as br\r\n",
        "g = lambda x: np.log(x**2+1)\r\n",
        "roots, epochs = br.secant(g, 0, 1.1, np.arange(0,10))\r\n",
        "np_roots = np.array(roots)\r\n",
        "np_roots = np.round(np_roots,3)\r\n",
        "np_roots = np.unique(np_roots)\r\n",
        "print(\"The root is {} found after {} epochs\".format(np_roots,epochs))"
      ],
      "execution_count": null,
      "outputs": [
        {
          "output_type": "stream",
          "text": [
            "The root is [0.] found after 100 epochs\n"
          ],
          "name": "stdout"
        }
      ]
    }
  ]
}