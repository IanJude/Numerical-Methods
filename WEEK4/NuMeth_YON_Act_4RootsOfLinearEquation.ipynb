{
  "nbformat": 4,
  "nbformat_minor": 0,
  "metadata": {
    "colab": {
      "name": "NuMeth_YON_Act#4RootsOfLinearEquation.ipynb",
      "provenance": [],
      "collapsed_sections": [],
      "include_colab_link": true
    },
    "kernelspec": {
      "name": "python3",
      "display_name": "Python 3"
    }
  },
  "cells": [
    {
      "cell_type": "markdown",
      "metadata": {
        "id": "view-in-github",
        "colab_type": "text"
      },
      "source": [
        "<a href=\"https://colab.research.google.com/github/IanJude/Numerical-Methods/blob/main/WEEK4/NuMeth_YON_Act_4RootsOfLinearEquation.ipynb\" target=\"_parent\"><img src=\"https://colab.research.google.com/assets/colab-badge.svg\" alt=\"Open In Colab\"/></a>"
      ]
    },
    {
      "cell_type": "markdown",
      "metadata": {
        "id": "Px37T-_PcASE"
      },
      "source": [
        "# YON User Manual\r\n",
        "\r\n",
        "D.M. Fajardo © 2021\r\n",
        "\r\n",
        "I.J. Timbungco © 2021\r\n",
        "\r\n",
        "M.A. Rodriguez © 2021\r\n",
        "\r\n",
        "N.K. Vitales © 2021\r\n",
        "\r\n",
        "## Methods\r\n",
        "\r\n",
        "For this activity the module name is last_three_method, but eventually the name of the module will change after the compilation of all method, but the package name is still numeth_yon that stands for Numerical Method and the group number which is YON.\r\n",
        "* Bisection Method\r\n",
        "* Regula Falsi Method (False Position) \r\n",
        "* Secant Method"
      ]
    },
    {
      "cell_type": "markdown",
      "metadata": {
        "id": "VXfyxBdBfWX9"
      },
      "source": [
        "## Bisection Method\r\n",
        "\r\n",
        "last_three_method.bisection(f, i1, i2, steps, h=1e-06, end_bisect=0)\r\n",
        "\r\n",
        "**Definition:** Returns the roots and the end of the bisection of the given *f* which is the function or equation using the bisection method.\r\n",
        "\r\n",
        "**Parameters:** \r\n",
        "*   ***f:*** is the function or equation that is need to be solve.\r\n",
        "*   **i1:** is the first interval or the minima of the expected root.\r\n",
        "*   **i2:** is the second interval or the maxima of the expected root.\r\n",
        "*   **steps:** is the increment of the intervals.\r\n",
        "*   **h:** is for the tolerance.\r\n",
        "*   **end_bisect:** is where to stop\r\n",
        "\r\n",
        "**Return:**\r\n",
        "*   **roots:** returns the value of the roots of the given function.\r\n",
        "*   **end_bisect:** returns the value of the roots where have been found."
      ]
    },
    {
      "cell_type": "markdown",
      "metadata": {
        "id": "l7OZ3epwnNqf"
      },
      "source": [
        "### Inside the Module:"
      ]
    },
    {
      "cell_type": "code",
      "metadata": {
        "id": "Hv3b8YZfcGSn"
      },
      "source": [
        "### Bisection Method\r\n",
        "def bisection(f, i1, i2, steps, h=1e-06, end_bisect = 0):\r\n",
        "  y1, y2 = f(i1), f(i2) # Calculated values of y1 and y2 given i1 and i2                                  \r\n",
        "  roots = [] # list of roots \r\n",
        "  if np.sign(y1) == np.sign(y2): # Check the signs of y are different                           \r\n",
        "    print(\"Root cannot be found in the given interval\") # If the signs of y1 and y2 are the same halt\r\n",
        "  else:\r\n",
        "    for i in steps: # steps for the interval of i1 and i2\r\n",
        "      int1 = i1+i # interval 'i1' will become 'int1'\r\n",
        "      int2 = i2+i # interval 'i2' will become 'int2'\r\n",
        "      intval = int1, int2 # making it a tuple\r\n",
        "      for bisect in range(0,100):                               \r\n",
        "        midp = np.mean(intval) # If the signs of y1 and y2 are opposite, calculate the x in the half of the interval                                #5\r\n",
        "        y_mid = f(midp) \r\n",
        "        y1 = f(int1)\r\n",
        "        if np.allclose(0,y1, h): # If y1 and y2 approach 0, halt.\r\n",
        "          roots.append(int1)\r\n",
        "          end_bisect = bisect\r\n",
        "          break\r\n",
        "        if np.sign(y1) != np.sign(y_mid): #root is in first-half interval\r\n",
        "          i2 = midp\r\n",
        "        else: #root is in second-half interval\r\n",
        "          i1 = midp \r\n",
        "  if roots is not None:\r\n",
        "    return roots, end_bisect"
      ],
      "execution_count": null,
      "outputs": []
    },
    {
      "cell_type": "markdown",
      "metadata": {
        "id": "SHJnYpIUni-6"
      },
      "source": [
        "### Example:"
      ]
    },
    {
      "cell_type": "code",
      "metadata": {
        "id": "srgWzPuHnlS5"
      },
      "source": [
        "import numpy as np\r\n",
        "from numeth_yon import last_three_method as lt\r\n",
        "g = lambda x: 2*x**2 - 5*x + 3\r\n",
        "roots, end_bisect = lt.bisection(g, 0, 1, np.arange(0,10,0.25))\r\n",
        "print(\"The root is {} found after {} bisection\".format(roots,end_bisect))\r\n",
        "# Output: The root is [1.0, 1.5] found after 0 bisection"
      ],
      "execution_count": null,
      "outputs": []
    },
    {
      "cell_type": "markdown",
      "metadata": {
        "id": "8M8wRC8NntAB"
      },
      "source": [
        "## Regula Falsi Method\r\n",
        "\r\n",
        "last_three_method.falsi(f, a, b, steps, h=1e-06, pos=0):\r\n",
        "\r\n",
        "**Definition:** Returns the roots and the position of the given *f* which is the function or equation using the regula falsi method.\r\n",
        "\r\n",
        "**Parameters:** \r\n",
        "*   ***f:*** is the function or equation that is need to be solve.\r\n",
        "*   **a:** is the first interval or the minima of the expected root.\r\n",
        "*   **b:** is the second interval or the maxima of the expected root.\r\n",
        "*   **steps:** is the increment of the intervals.\r\n",
        "*   **h:** is for the tolerance.\r\n",
        "*   **pos:** is where to stop\r\n",
        "\r\n",
        "**Return:**\r\n",
        "*   **roots:** returns the value of the roots of the given function.\r\n",
        "*   **pos:** returns the value of the roots where have been found."
      ]
    },
    {
      "cell_type": "markdown",
      "metadata": {
        "id": "Njwzn14aoT1i"
      },
      "source": [
        "### Inside the Module:"
      ]
    },
    {
      "cell_type": "code",
      "metadata": {
        "id": "ZE9rrte3oY-U"
      },
      "source": [
        "### Regula Falsi Method\r\n",
        "def falsi(f, a, b, steps, h=1e-06, pos=0):\r\n",
        "  y1, y2 = f(a), f(b) # Calculate values of y1 and y2 given a and b.\r\n",
        "  roots = [] # list of roots \r\n",
        "  if np.allclose(0,y1): root = a\r\n",
        "  elif np.allclose(0,y2): root = b\r\n",
        "  elif np.sign(y1) == np.sign(y2): # Check the signs of y are different   \r\n",
        "    print(\"No root here\") # If the signs of y1 and y2 are the same halt\r\n",
        "  else:\r\n",
        "    for i in steps: # steps for the interval of a and b\r\n",
        "      int1 = a+i # interval 'a' will become 'int1'\r\n",
        "      int2 = b+i # interval 'b' will become 'int2'\r\n",
        "      for pos in range(0,100):\r\n",
        "        c = int2 - (f(int2)*(int2-int1))/(f(int2)-f(int1)) ##false root # Calculate the value of c and f(c)\r\n",
        "        if np.allclose(0,f(c), h): # If f(c) approaches 0, halt and obtain the root\r\n",
        "          roots.append(c)\r\n",
        "          break\r\n",
        "        if np.sign(f(int1)) != np.sign(f(c)): int2,y2 = c,f(c) # If f(c) and f(int1) have opposite signs \r\n",
        "        else: int1,y1 = c,f(c) # set int1=c and y1=f(c)\r\n",
        "  if roots is not None:\r\n",
        "    return roots, pos"
      ],
      "execution_count": null,
      "outputs": []
    },
    {
      "cell_type": "markdown",
      "metadata": {
        "id": "o63LO0LvocwO"
      },
      "source": [
        "#### Example:"
      ]
    },
    {
      "cell_type": "code",
      "metadata": {
        "id": "Fu_vxsyLog6s"
      },
      "source": [
        "import numpy as np\r\n",
        "from numeth_yon import last_three_method as lt\r\n",
        "g = lambda x: 2*x**2 - 5*x + 3\r\n",
        "roots, pos = lt.falsi(g, 0, 1.1, np.arange(0,10,0.25))\r\n",
        "np_roots = np.array(roots)\r\n",
        "np_roots = np.round(np_roots,3)\r\n",
        "np_roots = np.unique(np_roots)\r\n",
        "print(\"The root is {} found after {} false position\".format(np_roots,pos))\r\n",
        "# Output: The root is [1.  1.5] found after 99 false position"
      ],
      "execution_count": null,
      "outputs": []
    },
    {
      "cell_type": "markdown",
      "metadata": {
        "id": "hqJR2g5EohNk"
      },
      "source": [
        "## Secant Method\r\n",
        "\r\n",
        "last_three_method.secant(f, a, b, steps, epochs = 100):\r\n",
        "\r\n",
        "**Definition:** Returns the roots and the iteration or epochs of the given *f* which is the function or equation using the secant method.\r\n",
        "\r\n",
        "**Parameters:** \r\n",
        "*   ***f:*** is the function or equation that is need to be solve.\r\n",
        "*   **a:** is the first interval or the minima of the expected root.\r\n",
        "*   **b:** is the second interval or the maxima of the expected root.\r\n",
        "*   **steps:** is the increment of the intervals.\r\n",
        "*   **epochs:** is where to stop\r\n",
        "\r\n",
        "**Return:**\r\n",
        "*   **roots:** returns the value of the roots of the given function.\r\n",
        "*   **epochs:** returns the value of the roots where have been found."
      ]
    },
    {
      "cell_type": "markdown",
      "metadata": {
        "id": "N6_U1Gspqftp"
      },
      "source": [
        "### Inside the Module:"
      ]
    },
    {
      "cell_type": "code",
      "metadata": {
        "id": "aMRvhQXBqsXb"
      },
      "source": [
        "### Secant Method\r\n",
        "def secant(f, a, b, steps, epochs = 100):\r\n",
        "  roots = [] # list of roots \r\n",
        "  for i in steps: # steps for the interval of a and b\r\n",
        "    intval1 = a+i # interval 'a' will become 'intval1'\r\n",
        "    intval2 = b+i # interval 'b' will become 'intval2'\r\n",
        "    for epoch in range(epochs):\r\n",
        "      c = intval2 - (f(intval2)*(intval2-intval1))/(f(intval2)-f(intval1)) # Calculate for c\r\n",
        "      if np.allclose(intval2,c): # If $x_2-x_1 approx 0, halt and retrieve root\r\n",
        "        roots.append(c)\r\n",
        "        break\r\n",
        "      else:\r\n",
        "        intval1,intval2 = intval2,c # Else intval1 = intval2 and intval2 = c\r\n",
        "  return roots, epochs"
      ],
      "execution_count": null,
      "outputs": []
    },
    {
      "cell_type": "markdown",
      "metadata": {
        "id": "0hlQOVf8q-dL"
      },
      "source": [
        "### Example:"
      ]
    },
    {
      "cell_type": "code",
      "metadata": {
        "id": "gl_IGiSVrDBW"
      },
      "source": [
        "import numpy as np\r\n",
        "from numeth_yon import last_three_method as lt\r\n",
        "g = lambda x: 2*x**2 - 5*x + 3\r\n",
        "roots, epochs = lt.secant(g, 0, 1.1, np.arange(0,10,0.25))\r\n",
        "np_roots = np.array(roots)\r\n",
        "np_roots = np.round(np_roots,3)\r\n",
        "np_roots = np.unique(np_roots)\r\n",
        "print(\"The root is {} found after {} epochs\".format(np_roots,epochs))\r\n",
        "# Output: The root is [1.  1.5] found after 100 epochs"
      ],
      "execution_count": null,
      "outputs": []
    }
  ]
}