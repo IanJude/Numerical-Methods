{
  "nbformat": 4,
  "nbformat_minor": 0,
  "metadata": {
    "colab": {
      "name": "NuMeth_YON_EXAM.ipynb",
      "provenance": [],
      "collapsed_sections": [],
      "include_colab_link": true
    },
    "kernelspec": {
      "name": "python3",
      "display_name": "Python 3"
    }
  },
  "cells": [
    {
      "cell_type": "markdown",
      "metadata": {
        "id": "view-in-github",
        "colab_type": "text"
      },
      "source": [
        "<a href=\"https://colab.research.google.com/github/IanJude/Numerical-Methods/blob/main/PRELIM_EXAM/NuMeth_YON_EXAM.ipynb\" target=\"_parent\"><img src=\"https://colab.research.google.com/assets/colab-badge.svg\" alt=\"Open In Colab\"/></a>"
      ]
    },
    {
      "cell_type": "markdown",
      "metadata": {
        "id": "Px37T-_PcASE"
      },
      "source": [
        "# YON User Manual\r\n",
        "\r\n",
        "D.M. Fajardo © 2021\r\n",
        "\r\n",
        "I.J. Timbungco © 2021\r\n",
        "\r\n",
        "M.A. Rodriguez © 2021\r\n",
        "\r\n",
        "N.K. Vitales © 2021\r\n",
        "\r\n",
        "## Methods\r\n",
        "\r\n",
        "For the final name of the module the group decided to be baby_roots for all methods of the roots of the equation and the final package name throughtout this sem is numeth_yon.\r\n",
        "\r\n",
        "\r\n",
        "* Brute force algorithm (f(x)=0)\r\n",
        "* Brute force algorithm (in terms of x)\r\n",
        "* Bisection Method\r\n",
        "* Regula Falsi Method (False Position) \r\n",
        "* Secant Method"
      ]
    },
    {
      "cell_type": "markdown",
      "metadata": {
        "id": "9N8kJPh39RBb"
      },
      "source": [
        "## Brute force algorithm (f(x)=0)\r\n",
        "\r\n",
        "baby_roots.f_of_x(f,roots,tol,i, epochs=100)\r\n",
        "\r\n",
        "**Definition:** Returns the roots and the epochs or iteration of the given *f* which is the function or equation using the rute force algorithm (f(x)=0).\r\n",
        "\r\n",
        "**Parameters:** \r\n",
        "*   **f:** is the function or equation that is need to be solve.\r\n",
        "*   **roots:** is the number of roots to be solve from the *f* or equation.\r\n",
        "*   **tol:** is for the tolerance.\r\n",
        "*   **i:** id for the incrementation to find the iteration.\r\n",
        "*   **epochs:** is where to stop\r\n",
        "\r\n",
        "**Return:**\r\n",
        "*   **x_roots:** returns the value of the roots of the given function.\r\n",
        "*   **end_epochs:** returns the value of the roots where have been found."
      ]
    },
    {
      "cell_type": "markdown",
      "metadata": {
        "id": "W3Kcq9vb9xM0"
      },
      "source": [
        "### Inside the Module"
      ]
    },
    {
      "cell_type": "code",
      "metadata": {
        "id": "kU09zbQV9way"
      },
      "source": [
        "### brute force algorithm (f(x)=0)\r\n",
        "def f_of_x(f,roots,tol,i, epochs=100):\r\n",
        "  \r\n",
        "    # f = eq # equation to be solved\r\n",
        "    x_roots=[] # list of roots\r\n",
        "    n_roots= roots # number of roots needed to find\r\n",
        "    incre = i #increments\r\n",
        "\r\n",
        "    # end_epochs= stop_epochs #ending point of the iteration\r\n",
        "    # epochs= start_epochs #starting point of the iteration\r\n",
        "    h = tol #tolerance is the starting guess\r\n",
        "\r\n",
        "    for epoch in range(epochs): # the list of iteration that will be using\r\n",
        "     if np.isclose(f(h),0): # applying current h or the tolerance in the equation and the approximation on f(x) = 0\r\n",
        "        x_roots.insert(len(x_roots), h) \r\n",
        "        end_epochs = epoch\r\n",
        "        if len(x_roots) == n_roots:\r\n",
        "          break # once the root is found it will stop and print the root\r\n",
        "     h+=incre # the change of value in h wherein if the roots did not find it will going to loop\r\n",
        "   \r\n",
        "    return x_roots, end_epochs # returning the value of the roots and the iteration or the epochs"
      ],
      "execution_count": null,
      "outputs": []
    },
    {
      "cell_type": "markdown",
      "metadata": {
        "id": "qIUWa52n97UB"
      },
      "source": [
        "### Example:"
      ]
    },
    {
      "cell_type": "code",
      "metadata": {
        "id": "QrK1Rhe8-hl6",
        "colab": {
          "base_uri": "https://localhost:8080/"
        },
        "outputId": "34a69027-7c3e-4c9e-f43f-da6076f49608"
      },
      "source": [
        "import numpy as np\r\n",
        "from numeth_yon import baby_roots as br\r\n",
        "sample1 = lambda x: x**2+x-2\r\n",
        "roots, epochs = br.f_of_x(sample1,2,-10,1,100)\r\n",
        "print(f\"The root is: {roots}, found at epoch {epochs+1}\")"
      ],
      "execution_count": null,
      "outputs": [
        {
          "output_type": "stream",
          "text": [
            "The root is: [-2, 1], found at epoch 12\n"
          ],
          "name": "stdout"
        }
      ]
    },
    {
      "cell_type": "markdown",
      "metadata": {
        "id": "3rNIhl9h9_mK"
      },
      "source": [
        "## Brute force algorithm (in terms of x)\r\n",
        "\r\n",
        "baby_roots.in_terms_of_x(eq,tol,epochs=100)\r\n",
        "\r\n",
        "**Definition:** Returns the roots and the epochs or iteration of the given *eq* which is the function or equation using the rute force algorithm (in terms of x).\r\n",
        "\r\n",
        "**Parameters:** \r\n",
        "*   ***eq:*** is the function or equation that is need to be solve.\r\n",
        "*   **tol:** is for the tolerance.\r\n",
        "*   **epochs:** is where to stop\r\n",
        "\r\n",
        "**Return:**\r\n",
        "*   **x_roots:** returns the value of the roots of the given function.\r\n",
        "*   **epochs:** returns the value of the roots where have been found."
      ]
    },
    {
      "cell_type": "markdown",
      "metadata": {
        "id": "GcjU2qcF-UxF"
      },
      "source": [
        "### Inside the Module:"
      ]
    },
    {
      "cell_type": "code",
      "metadata": {
        "id": "1zdfUzme-ak1"
      },
      "source": [
        "### brute force algorithm (in terms of x)\r\n",
        "def in_terms_of_x(eq,tol,epochs=100):\r\n",
        "\r\n",
        "    funcs = eq # equation to be solved\r\n",
        "    x_roots=[] # list of roots\r\n",
        "    n_roots = len(funcs) # How many roots needed to find according to the length of the equation\r\n",
        "    # epochs= begin_epochs # number of iteration\r\n",
        "    h = tol # tolerance or the guess to adjust\r\n",
        "\r\n",
        "    for func in funcs:\r\n",
        "      x = 0 # initial value or initial guess\r\n",
        "      for epoch in range(epochs): # the list of iteration that will be using\r\n",
        "        x_prime = func(x)\r\n",
        "        if np.allclose(x, x_prime,h): \r\n",
        "          x_roots.insert(len(x_roots),x_prime)\r\n",
        "          break # once the root is found it will stop and print the root\r\n",
        "        x = x_prime\r\n",
        "    return x_roots, epochs # returning the value of the roots and the iteration or the epochs"
      ],
      "execution_count": null,
      "outputs": []
    },
    {
      "cell_type": "markdown",
      "metadata": {
        "id": "P0bpgCPhACkk"
      },
      "source": [
        "### Example:"
      ]
    },
    {
      "cell_type": "code",
      "metadata": {
        "id": "8shqrMsfACt6",
        "colab": {
          "base_uri": "https://localhost:8080/"
        },
        "outputId": "1ae69c6f-fefa-439c-9cdb-35e582a427d0"
      },
      "source": [
        "import numpy as np\r\n",
        "from numeth_yon import baby_roots as br\r\n",
        "sample2 = lambda x: 2-x**2\r\n",
        "sample3 = lambda x: np.sqrt(2-x)\r\n",
        "\r\n",
        "funcs = [sample2, sample3]\r\n",
        "roots, epochs = br.in_terms_of_x(funcs,1e-05)\r\n",
        "print(\"The root is {} found after {} epochs\".format(roots,epochs))"
      ],
      "execution_count": null,
      "outputs": [
        {
          "output_type": "stream",
          "text": [
            "The root is [-2, 1.00000172977337] found after 100 epochs\n"
          ],
          "name": "stdout"
        }
      ]
    },
    {
      "cell_type": "markdown",
      "metadata": {
        "id": "4BJBNvNz_kBs"
      },
      "source": [
        "## Newton Raphson Method\r\n",
        "\r\n",
        "baby_roots.newt_raphson(f,f_prime, x_inits, epochs=100)\r\n",
        "\r\n",
        "\r\n",
        "**Definition:** Returns the roots and the epochs or the iteration of the given function or equation using the newton raphson method.\r\n",
        "\r\n",
        "**Parameters:** \r\n",
        "*   ***f:*** is the fist function or equation while the;\r\n",
        "*   **f_prime:** is the derivative of the *f*.\r\n",
        "*   **x_inits:** is where the expected roots is to find.\r\n",
        "*   **epochs:** is where to stop\r\n",
        "\r\n",
        "**Return:**\r\n",
        "*   **roots:** returns the value of the roots of the given function.\r\n",
        "*   **epochs:** returns the value of the roots where have been found."
      ]
    },
    {
      "cell_type": "markdown",
      "metadata": {
        "id": "rthqn7LR_lny"
      },
      "source": [
        "### Inside the Module:"
      ]
    },
    {
      "cell_type": "code",
      "metadata": {
        "id": "PJPS9NzA_l6J"
      },
      "source": [
        "### newton-raphson method\r\n",
        "def newt_raphson(f,f_prime, x_inits, epochs=100):\r\n",
        "\r\n",
        "  roots = [] # list of roots\r\n",
        "\r\n",
        "  for x_init in x_inits:\r\n",
        "    x = x_init\r\n",
        "    for epoch in range(epochs):\r\n",
        "      x_prime = x - (f(x)/f_prime(x))\r\n",
        "      if np.allclose(x, x_prime):\r\n",
        "        roots.append(x)\r\n",
        "        break # once the root is found it will stop and print the root\r\n",
        "      x = x_prime\r\n",
        "  return roots, epochs # returning the value of the roots and the iteration or the epochs"
      ],
      "execution_count": null,
      "outputs": []
    },
    {
      "cell_type": "markdown",
      "metadata": {
        "id": "Hn3lZMUx_mK9"
      },
      "source": [
        "### Example:"
      ]
    },
    {
      "cell_type": "code",
      "metadata": {
        "id": "dwqemJNT_m-L",
        "colab": {
          "base_uri": "https://localhost:8080/"
        },
        "outputId": "a9bad270-e645-4ae1-e736-85528f1b0d20"
      },
      "source": [
        "import numpy as np\r\n",
        "from numeth_yon import baby_roots as br\r\n",
        "g = lambda x: 2*x**2 - 5*x + 3\r\n",
        "g_prime = lambda x: 4*x-5\r\n",
        "n_roots, iter = br.newt_raphson(g,g_prime, np.arange(0,5))\r\n",
        "np_roots = np.round(n_roots,3)\r\n",
        "np_roots = np.unique(np_roots)\r\n",
        "print(\"The root is {} found after {} epochs\".format(np_roots,iter))"
      ],
      "execution_count": null,
      "outputs": [
        {
          "output_type": "stream",
          "text": [
            "The root is [1.  1.5] found after 100 epochs\n"
          ],
          "name": "stdout"
        }
      ]
    },
    {
      "cell_type": "markdown",
      "metadata": {
        "id": "VXfyxBdBfWX9"
      },
      "source": [
        "## Bisection Method\r\n",
        "\r\n",
        "baby_roots.bisection(f, i1, i2, steps, h=1e-06, end_bisect=0)\r\n",
        "\r\n",
        "**Definition:** Returns the roots and the end of the bisection of the given *f* which is the function or equation using the bisection method.\r\n",
        "\r\n",
        "**Parameters:** \r\n",
        "*   ***f:*** is the function or equation that is need to be solve.\r\n",
        "*   **i1:** is the first interval or the minima of the expected root.\r\n",
        "*   **i2:** is the second interval or the maxima of the expected root.\r\n",
        "*   **steps:** is the increment of the intervals.\r\n",
        "*   **h:** is for the tolerance.\r\n",
        "*   **end_bisect:** is where to stop\r\n",
        "\r\n",
        "**Return:**\r\n",
        "*   **roots:** returns the value of the roots of the given function.\r\n",
        "*   **end_bisect:** returns the value of the roots where have been found."
      ]
    },
    {
      "cell_type": "markdown",
      "metadata": {
        "id": "l7OZ3epwnNqf"
      },
      "source": [
        "### Inside the Module:"
      ]
    },
    {
      "cell_type": "code",
      "metadata": {
        "id": "Hv3b8YZfcGSn"
      },
      "source": [
        "### Bisection Method\r\n",
        "def bisection(f, i1, i2, steps, h=1e-06, end_bisect = 0):\r\n",
        "  y1, y2 = f(i1), f(i2) # Calculated values of y1 and y2 given i1 and i2                                  \r\n",
        "  roots = [] # list of roots \r\n",
        "  if np.sign(y1) == np.sign(y2): # Check the signs of y are different                           \r\n",
        "    print(\"Root cannot be found in the given interval\") # If the signs of y1 and y2 are the same halt\r\n",
        "  else:\r\n",
        "    for i in steps: # steps for the interval of i1 and i2\r\n",
        "      int1 = i1+i # interval 'i1' will become 'int1'\r\n",
        "      int2 = i2+i # interval 'i2' will become 'int2'\r\n",
        "      intval = int1, int2 # making it a tuple\r\n",
        "      for bisect in range(0,100):                               \r\n",
        "        midp = np.mean(intval) # If the signs of y1 and y2 are opposite, calculate the x in the half of the interval                                #5\r\n",
        "        y_mid = f(midp) \r\n",
        "        y1 = f(int1)\r\n",
        "        if np.allclose(0,y1, h): # If y1 and y2 approach 0, halt.\r\n",
        "          roots.append(int1)\r\n",
        "          end_bisect = bisect\r\n",
        "          break\r\n",
        "        if np.sign(y1) != np.sign(y_mid): #root is in first-half interval\r\n",
        "          i2 = midp\r\n",
        "        else: #root is in second-half interval\r\n",
        "          i1 = midp \r\n",
        "  if roots is not None:\r\n",
        "    return roots, end_bisect"
      ],
      "execution_count": null,
      "outputs": []
    },
    {
      "cell_type": "markdown",
      "metadata": {
        "id": "SHJnYpIUni-6"
      },
      "source": [
        "### Example:"
      ]
    },
    {
      "cell_type": "code",
      "metadata": {
        "id": "srgWzPuHnlS5",
        "colab": {
          "base_uri": "https://localhost:8080/"
        },
        "outputId": "7e7a5ec3-1c8f-43e6-d51d-c9ef88b014a3"
      },
      "source": [
        "import numpy as np\r\n",
        "from numeth_yon import baby_roots as br\r\n",
        "g = lambda x: 2*x**2 - 5*x + 3\r\n",
        "roots, end_bisect = br.bisection(g, 0, 1, np.arange(0,10,0.25))\r\n",
        "print(\"The root is {} found after {} bisection\".format(roots,end_bisect))\r\n",
        "# Output: The root is [1.0, 1.5] found after 0 bisection"
      ],
      "execution_count": null,
      "outputs": [
        {
          "output_type": "stream",
          "text": [
            "The root is [1.0, 1.5] found after 0 bisection\n"
          ],
          "name": "stdout"
        }
      ]
    },
    {
      "cell_type": "markdown",
      "metadata": {
        "id": "8M8wRC8NntAB"
      },
      "source": [
        "## Regula Falsi Method\r\n",
        "\r\n",
        "last_three_method.falsi(f, a, b, steps, h=1e-06, pos=0):\r\n",
        "\r\n",
        "**Definition:** Returns the roots and the position of the given *f* which is the function or equation using the regula falsi method.\r\n",
        "\r\n",
        "**Parameters:** \r\n",
        "*   ***f:*** is the function or equation that is need to be solve.\r\n",
        "*   **a:** is the first interval or the minima of the expected root.\r\n",
        "*   **b:** is the second interval or the maxima of the expected root.\r\n",
        "*   **steps:** is the increment of the intervals.\r\n",
        "*   **h:** is for the tolerance.\r\n",
        "*   **pos:** is where to stop\r\n",
        "\r\n",
        "**Return:**\r\n",
        "*   **roots:** returns the value of the roots of the given function.\r\n",
        "*   **pos:** returns the value of the roots where have been found."
      ]
    },
    {
      "cell_type": "markdown",
      "metadata": {
        "id": "Njwzn14aoT1i"
      },
      "source": [
        "### Inside the Module:"
      ]
    },
    {
      "cell_type": "code",
      "metadata": {
        "id": "ZE9rrte3oY-U"
      },
      "source": [
        "### Regula Falsi Method\r\n",
        "def falsi(f, a, b, steps, h=1e-06, pos=0):\r\n",
        "  y1, y2 = f(a), f(b) # Calculate values of y1 and y2 given a and b.\r\n",
        "  roots = [] # list of roots \r\n",
        "  if np.allclose(0,y1): root = a\r\n",
        "  elif np.allclose(0,y2): root = b\r\n",
        "  elif np.sign(y1) == np.sign(y2): # Check the signs of y are different   \r\n",
        "    print(\"No root here\") # If the signs of y1 and y2 are the same halt\r\n",
        "  else:\r\n",
        "    for i in steps: # steps for the interval of a and b\r\n",
        "      int1 = a+i # interval 'a' will become 'int1'\r\n",
        "      int2 = b+i # interval 'b' will become 'int2'\r\n",
        "      for pos in range(0,100):\r\n",
        "        c = int2 - (f(int2)*(int2-int1))/(f(int2)-f(int1)) ##false root # Calculate the value of c and f(c)\r\n",
        "        if np.allclose(0,f(c), h): # If f(c) approaches 0, halt and obtain the root\r\n",
        "          roots.append(c)\r\n",
        "          break\r\n",
        "        if np.sign(f(int1)) != np.sign(f(c)): int2,y2 = c,f(c) # If f(c) and f(int1) have opposite signs \r\n",
        "        else: int1,y1 = c,f(c) # set int1=c and y1=f(c)\r\n",
        "  if roots is not None:\r\n",
        "    return roots, pos"
      ],
      "execution_count": null,
      "outputs": []
    },
    {
      "cell_type": "markdown",
      "metadata": {
        "id": "o63LO0LvocwO"
      },
      "source": [
        "#### Example:"
      ]
    },
    {
      "cell_type": "code",
      "metadata": {
        "id": "Fu_vxsyLog6s",
        "colab": {
          "base_uri": "https://localhost:8080/"
        },
        "outputId": "92d08095-6417-4728-9761-7493cfb29041"
      },
      "source": [
        "import numpy as np\r\n",
        "from numeth_yon import baby_roots as br\r\n",
        "g = lambda x: 2*x**2 - 5*x + 3\r\n",
        "roots, pos = br.falsi(g, 0, 1.1, np.arange(0,10,0.25))\r\n",
        "np_roots = np.array(roots)\r\n",
        "np_roots = np.round(np_roots,3)\r\n",
        "np_roots = np.unique(np_roots)\r\n",
        "print(\"The root is {} found after {} false position\".format(np_roots,pos))\r\n",
        "# Output: The root is [1.  1.5] found after 99 false position"
      ],
      "execution_count": null,
      "outputs": [
        {
          "output_type": "stream",
          "text": [
            "The root is [1.  1.5] found after 99 false position\n"
          ],
          "name": "stdout"
        }
      ]
    },
    {
      "cell_type": "markdown",
      "metadata": {
        "id": "hqJR2g5EohNk"
      },
      "source": [
        "## Secant Method\r\n",
        "\r\n",
        "last_three_method.secant(f, a, b, steps, epochs = 100):\r\n",
        "\r\n",
        "**Definition:** Returns the roots and the iteration or epochs of the given *f* which is the function or equation using the secant method.\r\n",
        "\r\n",
        "**Parameters:** \r\n",
        "*   ***f:*** is the function or equation that is need to be solve.\r\n",
        "*   **a:** is the first interval or the minima of the expected root.\r\n",
        "*   **b:** is the second interval or the maxima of the expected root.\r\n",
        "*   **steps:** is the increment of the intervals.\r\n",
        "*   **epochs:** is where to stop\r\n",
        "\r\n",
        "**Return:**\r\n",
        "*   **roots:** returns the value of the roots of the given function.\r\n",
        "*   **epochs:** returns the value of the roots where have been found."
      ]
    },
    {
      "cell_type": "markdown",
      "metadata": {
        "id": "N6_U1Gspqftp"
      },
      "source": [
        "### Inside the Module:"
      ]
    },
    {
      "cell_type": "code",
      "metadata": {
        "id": "aMRvhQXBqsXb"
      },
      "source": [
        "### Secant Method\r\n",
        "def secant(f, a, b, steps, epochs = 100):\r\n",
        "  roots = [] # list of roots \r\n",
        "  for i in steps: # steps for the interval of a and b\r\n",
        "    intval1 = a+i # interval 'a' will become 'intval1'\r\n",
        "    intval2 = b+i # interval 'b' will become 'intval2'\r\n",
        "    for epoch in range(epochs):\r\n",
        "      c = intval2 - (f(intval2)*(intval2-intval1))/(f(intval2)-f(intval1)) # Calculate for c\r\n",
        "      if np.allclose(intval2,c): # If $x_2-x_1 approx 0, halt and retrieve root\r\n",
        "        roots.append(c)\r\n",
        "        break\r\n",
        "      else:\r\n",
        "        intval1,intval2 = intval2,c # Else intval1 = intval2 and intval2 = c\r\n",
        "  return roots, epochs"
      ],
      "execution_count": null,
      "outputs": []
    },
    {
      "cell_type": "markdown",
      "metadata": {
        "id": "0hlQOVf8q-dL"
      },
      "source": [
        "### Example:"
      ]
    },
    {
      "cell_type": "code",
      "metadata": {
        "id": "gl_IGiSVrDBW",
        "colab": {
          "base_uri": "https://localhost:8080/"
        },
        "outputId": "0b6a0ec2-2365-4300-ef5b-b91fb0eaba8d"
      },
      "source": [
        "import numpy as np\r\n",
        "from numeth_yon import baby_roots as br\r\n",
        "g = lambda x: 2*x**2 - 5*x + 3\r\n",
        "roots, epochs = br.secant(g, 0, 1.1, np.arange(0,10,0.25))\r\n",
        "np_roots = np.array(roots)\r\n",
        "np_roots = np.round(np_roots,3)\r\n",
        "np_roots = np.unique(np_roots)\r\n",
        "print(\"The root is {} found after {} epochs\".format(np_roots,epochs))\r\n",
        "# Output: The root is [1.  1.5] found after 100 epochs"
      ],
      "execution_count": null,
      "outputs": [
        {
          "output_type": "stream",
          "text": [
            "The root is [1.  1.5] found after 100 epochs\n"
          ],
          "name": "stdout"
        }
      ]
    }
  ]
}