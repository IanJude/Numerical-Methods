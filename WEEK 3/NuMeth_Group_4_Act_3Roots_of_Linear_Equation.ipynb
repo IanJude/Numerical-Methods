{
  "nbformat": 4,
  "nbformat_minor": 0,
  "metadata": {
    "colab": {
      "name": "NuMeth_Group#4_Act#3Roots_of_Linear_Equation.ipynb",
      "provenance": [],
      "collapsed_sections": [],
      "include_colab_link": true
    },
    "kernelspec": {
      "name": "python3",
      "display_name": "Python 3"
    }
  },
  "cells": [
    {
      "cell_type": "markdown",
      "metadata": {
        "id": "view-in-github",
        "colab_type": "text"
      },
      "source": [
        "<a href=\"https://colab.research.google.com/github/IanJude/Numerical-Methods/blob/main/WEEK%203/NuMeth_Group_4_Act_3Roots_of_Linear_Equation.ipynb\" target=\"_parent\"><img src=\"https://colab.research.google.com/assets/colab-badge.svg\" alt=\"Open In Colab\"/></a>"
      ]
    },
    {
      "cell_type": "markdown",
      "metadata": {
        "id": "g5AwitZxxyZj"
      },
      "source": [
        "### CONTRIBUTION \r\n",
        "\r\n",
        "The group talked about the grades that will be given should be the same for each member of the group. Each group member participated and contribute ideas to finish this user manual before the due date. Each member would like to say thank you for their fellow group members.\r\n",
        "\r\n",
        "\r\n",
        "# Inside the Module"
      ]
    },
    {
      "cell_type": "code",
      "metadata": {
        "id": "5HuKEeWnxDiJ"
      },
      "source": [
        "### Brute force algorithm(f(x)=0)\r\n",
        "def f_of_x(f,roots,tol,i, epochs=100):\r\n",
        "  \r\n",
        "    x_roots=[] # list of roots\r\n",
        "    n_roots= roots # number of roots needed to find\r\n",
        "    incre = i #increments\r\n",
        "    h = tol #tolerance is the starting guess\r\n",
        "    \r\n",
        "    for epoch in range(epochs): # the list of iteration that will be using\r\n",
        "     if np.isclose(f(h),0): # applying current h or the tolerance in the equation and the approximation on f(x) = 0\r\n",
        "        x_roots.insert(len(x_roots), h) \r\n",
        "        end_epochs = epoch\r\n",
        "        if len(x_roots) == n_roots:\r\n",
        "          break # once the root is found it will stop and print the root\r\n",
        "     h+=incre # the change of value in h wherein if the roots did not find it will going to loop\r\n",
        "   \r\n",
        "    return x_roots, end_epochs # returning the value of the roots and the iteration or the epochs"
      ],
      "execution_count": null,
      "outputs": []
    },
    {
      "cell_type": "code",
      "metadata": {
        "id": "w42UUREoyWl5"
      },
      "source": [
        "### brute force algorithm (in terms of x)\r\n",
        "def in_terms_of_x(eq,tol,epochs=100):\r\n",
        "\r\n",
        "    funcs = eq # equation to be solved\r\n",
        "    x_roots=[] # list of roots\r\n",
        "    n_roots = len(funcs) # How many roots needed to find according to the length of the equation\r\n",
        "    # epochs= begin_epochs # number of iteration\r\n",
        "    h = tol # tolerance or the guess to adjust\r\n",
        "\r\n",
        "    for func in funcs:\r\n",
        "      x = 0 # initial value or initial guess\r\n",
        "      for epoch in range(epochs): # the list of iteration that will be using\r\n",
        "        x_prime = func(x)\r\n",
        "        if np.allclose(x, x_prime,h): \r\n",
        "          x_roots.insert(len(x_roots),x_prime)\r\n",
        "          break # once the root is found it will stop and print the root\r\n",
        "        x = x_prime\r\n",
        "    return x_roots, epochs # returning the value of the roots and the iteration or the epochs"
      ],
      "execution_count": null,
      "outputs": []
    },
    {
      "cell_type": "code",
      "metadata": {
        "id": "Jl4w3viZyi7M"
      },
      "source": [
        "### newton-raphson method\r\n",
        "def newt_raphson(func_eq,prime_eq, inits, epochs=100):\r\n",
        "\r\n",
        "  f = func_eq # first equation\r\n",
        "  f_prime = prime_eq # second equation\r\n",
        "  # epochs= max_iter # number of iteration\r\n",
        "  x_inits = inits # guess of the roots in range\r\n",
        "  roots = [] # list of roots\r\n",
        "\r\n",
        "  for x_init in x_inits:\r\n",
        "    x = x_init\r\n",
        "    for epoch in range(epochs):\r\n",
        "      x_prime = x - (f(x)/f_prime(x))\r\n",
        "      if np.allclose(x, x_prime):\r\n",
        "        roots.append(x)\r\n",
        "        break # once the root is found it will stop and print the root\r\n",
        "      x = x_prime\r\n",
        "  return roots, epochs # returning the value of the roots and the iteration or the epochs"
      ],
      "execution_count": null,
      "outputs": []
    },
    {
      "cell_type": "markdown",
      "metadata": {
        "id": "fQzs1_ec6SBF"
      },
      "source": [
        "Inside also of the module there is an import numpy and import matplotlib the module is given the name first_two_method for this activity to avoid confusion to the last three method."
      ]
    },
    {
      "cell_type": "markdown",
      "metadata": {
        "id": "-Po5WZLA61zn"
      },
      "source": [
        "# On the package"
      ]
    },
    {
      "cell_type": "markdown",
      "metadata": {
        "id": "xlIbaP2465lY"
      },
      "source": [
        "The package was name numeth_yon for the numeth that stands for the course numerical method while the yon is the group number."
      ]
    },
    {
      "cell_type": "markdown",
      "metadata": {
        "id": "vqe4JU7P9BmK"
      },
      "source": [
        "# Explaining how to use your package and module with examples."
      ]
    },
    {
      "cell_type": "code",
      "metadata": {
        "id": "SrjXLLSQ9m8C"
      },
      "source": [
        "'''\r\n",
        "Import the Numpy package to the IDLE (import numpy as np), and from numeth_yon package import first_two_method for it to run the equation \r\n",
        "it is needed for the first_two_method to be next to the function that was inside in the first_two_method module that has been made which are \r\n",
        "the, f_of_x, in_terms_of_x and the newt_raphson, that wiil seen below:\r\n",
        "'''\r\n",
        "\r\n",
        "import numpy as np\r\n",
        "from numeth_yon import first_two_method"
      ],
      "execution_count": null,
      "outputs": []
    },
    {
      "cell_type": "code",
      "metadata": {
        "id": "GF5CYM3q_7TV"
      },
      "source": [
        "'''\r\n",
        "For the user to use f_of_x function, it is needed to provide the roots, the iteration is already set into the default value of 100, \r\n",
        "the estimated guess, and a number of increase must be provided. The function created that has been created, \r\n",
        "is to find the roots of the given equation. \r\n",
        "'''\r\n",
        "\r\n",
        "sample1 = lambda x: x**2+x-2\r\n",
        "roots, epochs = first_two_method.f_of_x(sample1,2,-10,1) # the first_two_method is the module that is next to the function inside of the module\r\n",
        "print(\"The root is: {}, found at epoch {}\".format(roots,epochs+1))\r\n",
        "# Output: The root is: [-2, 1], found at epoch 12"
      ],
      "execution_count": null,
      "outputs": []
    },
    {
      "cell_type": "code",
      "metadata": {
        "id": "9C6q2eXhB11F"
      },
      "source": [
        "'''\r\n",
        "In this method of using Brute Force Algorithm in terms of x, the user must have the equation to be solved, \r\n",
        "number of iteration was already set to 100 as default value  and tolerance to adjust the guess number. \r\n",
        "'''\r\n",
        "\r\n",
        "sample2 = lambda x: 2-x**2\r\n",
        "sample3 = lambda x: np.sqrt(2-x)\r\n",
        "\r\n",
        "funcs = [sample2, sample3]\r\n",
        "roots, epochs = first_two_method.in_terms_of_x(funcs,1e-05) # the first_two_method is the module that is next to the function inside of the module\r\n",
        "print(\"The root is {} found after {} epochs\".format(roots,epochs))\r\n",
        "# Output: The root is [-2, 1.00000172977337] found after 100 epochs"
      ],
      "execution_count": null,
      "outputs": []
    },
    {
      "cell_type": "code",
      "metadata": {
        "id": "cExI2PvVC2Cp"
      },
      "source": [
        "'''\r\n",
        "To use the newt_raphson, the user must provide an equation, the derivative of the equation, \r\n",
        "the number of repetitions was set to default value of 100, and the range of searching value for the parameters. \r\n",
        "The function of the function, is to find the roots of the given equation. \r\n",
        "'''\r\n",
        "\r\n",
        "g = lambda x: 2*x**2 - 5*x + 3\r\n",
        "g_prime = lambda x: 4*x-5\r\n",
        "\r\n",
        "# the first_two_method is the module that is next to the function inside of the module\r\n",
        "roots, epochs = first_two_method.newt_raphson(g,g_prime, np.arange(0,5)) \r\n",
        "x_roots = np.round(roots,3)\r\n",
        "x_roots = np.unique(x_roots)\r\n",
        "# Output: The root is [1.  1.5] found after 100 epochs"
      ],
      "execution_count": null,
      "outputs": []
    },
    {
      "cell_type": "markdown",
      "metadata": {
        "id": "F-QGUEA9D4Zo"
      },
      "source": [
        "To further understand please refer to the PDF version."
      ]
    },
    {
      "cell_type": "markdown",
      "metadata": {
        "id": "3aiweXnmFRdn"
      },
      "source": [
        "#### **Activity 2.1** \r\n",
        "1. Identify **two more polynomials** preferably **orders higher than 2** and **two transcendental functions**. Write them in **LaTex**.\r\n",
        "2. Plot their graphs you may choose your own set of pre-images.\r\n",
        "3. Manually solve for their roots and plot them along the graph of the equation."
      ]
    },
    {
      "cell_type": "code",
      "metadata": {
        "id": "-F9cLRUVHCBQ"
      },
      "source": [
        "import numpy as np\r\n",
        "import matplotlib.pyplot as plt"
      ],
      "execution_count": null,
      "outputs": []
    },
    {
      "cell_type": "markdown",
      "metadata": {
        "id": "Afhc-HlTcUL-"
      },
      "source": [
        "$$ f(x) = x^3+3x^2-4x $$"
      ]
    },
    {
      "cell_type": "code",
      "metadata": {
        "colab": {
          "base_uri": "https://localhost:8080/",
          "height": 320
        },
        "id": "IZeLJ1L_FXN2",
        "outputId": "42f66425-99e3-428e-aa0e-0d5f3775c3f9"
      },
      "source": [
        "##Input the function on the define f(x)\r\n",
        "def f(x):\r\n",
        "    return x**3+3*x**2-4*x\r\n",
        "\r\n",
        "x0, x1,x2 = -4, 0, 1 ## Roots of the function f(x)\r\n",
        "\r\n",
        "## Plotting the roots in a graph\r\n",
        "X = np.linspace(-5,2,dtype=float)\r\n",
        "Y = f(X)\r\n",
        "\r\n",
        "## Creating the grid of the graph\r\n",
        "\r\n",
        "plt.figure(figsize=(10,5))\r\n",
        "plt.axhline(y=0,color='black')\r\n",
        "plt.axvline(x=0,color='black')\r\n",
        "plt.grid()\r\n",
        "\r\n",
        "## Plotting the roots in the graph\r\n",
        "plt.plot(X,Y,color='blue')\r\n",
        "plt.scatter([x0,x1,x2],[0,0,0], c='red', label='roots')\r\n",
        "\r\n",
        "plt.legend()\r\n",
        "plt.show()"
      ],
      "execution_count": null,
      "outputs": [
        {
          "output_type": "display_data",
          "data": {
            "image/png": "[encoded data removed]",
            "text/plain": [
              "<Figure size 720x360 with 1 Axes>"
            ]
          },
          "metadata": {
            "tags": [],
            "needs_background": "light"
          }
        }
      ]
    },
    {
      "cell_type": "markdown",
      "metadata": {
        "id": "MFLuUP0tHk24"
      },
      "source": [
        "$$ f(x) = 2x^3-3x^2-11x-6 $$"
      ]
    },
    {
      "cell_type": "code",
      "metadata": {
        "colab": {
          "base_uri": "https://localhost:8080/",
          "height": 320
        },
        "id": "iV9gSTZhHGbb",
        "outputId": "3db928f3-5c3f-4749-a913-ae9236a4f769"
      },
      "source": [
        "def f(x):\r\n",
        "    return 2*x**3+3*x**2-11*x-6\r\n",
        "\r\n",
        "x0, x1,x2 = -3, -0.5, 2 ## Roots of the function f(x)\r\n",
        "\r\n",
        "## Plotting the roots in a graph\r\n",
        "X = np.linspace(-5,4,dtype=float)\r\n",
        "Y = f(X)\r\n",
        "\r\n",
        "## Creating the grid of the graph\r\n",
        "\r\n",
        "plt.figure(figsize=(10,5))\r\n",
        "plt.axhline(y=0,color='black')\r\n",
        "plt.axvline(x=0,color='black')\r\n",
        "plt.grid()\r\n",
        "\r\n",
        "## Plotting the roots in the graph\r\n",
        "plt.plot(X,Y,color='blue')\r\n",
        "plt.scatter([x0,x1,x2],[0,0,0], c='red', label='roots')\r\n",
        "\r\n",
        "plt.legend()\r\n",
        "plt.show()"
      ],
      "execution_count": null,
      "outputs": [
        {
          "output_type": "display_data",
          "data": {
            "image/png": "[encoded data removed]",
            "text/plain": [
              "<Figure size 720x360 with 1 Axes>"
            ]
          },
          "metadata": {
            "tags": [],
            "needs_background": "light"
          }
        }
      ]
    },
    {
      "cell_type": "markdown",
      "metadata": {
        "id": "1iWnU-EZOCCF"
      },
      "source": [
        "$$ f(x) = log(x) $$"
      ]
    },
    {
      "cell_type": "code",
      "metadata": {
        "colab": {
          "base_uri": "https://localhost:8080/",
          "height": 321
        },
        "id": "qXR7mZ1AJktO",
        "outputId": "c5ca0ab2-01d1-48a4-b371-e69a9aabd77f"
      },
      "source": [
        "def f(x):\r\n",
        "    return np.log(x)\r\n",
        "\r\n",
        "x0 = 1 ## Roots of the function f(x)\r\n",
        "\r\n",
        "## Plotting the roots in a graph\r\n",
        "X = np.linspace(0.2,4,dtype=float)\r\n",
        "Y = f(X)\r\n",
        "\r\n",
        "## Creating the grid of the graph\r\n",
        "\r\n",
        "plt.figure(figsize=(10,5))\r\n",
        "plt.axhline(y=0,color='black')\r\n",
        "plt.axvline(x=0,color='black')\r\n",
        "plt.grid()\r\n",
        "\r\n",
        "## Plotting the roots in the graph\r\n",
        "plt.plot(X,Y,color='blue')\r\n",
        "plt.scatter([x0],[0], c='red', label='roots')\r\n",
        "\r\n",
        "plt.legend()\r\n",
        "plt.show()"
      ],
      "execution_count": null,
      "outputs": [
        {
          "output_type": "display_data",
          "data": {
            "image/png": "[encoded data removed]",
            "text/plain": [
              "<Figure size 720x360 with 1 Axes>"
            ]
          },
          "metadata": {
            "tags": [],
            "needs_background": "light"
          }
        }
      ]
    },
    {
      "cell_type": "markdown",
      "metadata": {
        "id": "DDLcGDQ1ODD-"
      },
      "source": [
        "$$ f(x) = \\sqrt{9-x} $$"
      ]
    },
    {
      "cell_type": "code",
      "metadata": {
        "colab": {
          "base_uri": "https://localhost:8080/",
          "height": 320
        },
        "id": "ZVuj6cnqODWW",
        "outputId": "e32841b8-a58f-4eba-ae91-1f57eeceb0ca"
      },
      "source": [
        "def f(x):\r\n",
        "    return np.sqrt(9-x)\r\n",
        "\r\n",
        "x0 = 9 # Roots of the function f(x)\r\n",
        "\r\n",
        "## Plotting the roots in a graph\r\n",
        "X = np.linspace(1,9,dtype=float)\r\n",
        "Y = f(X)\r\n",
        "\r\n",
        "## Creating the grid of the graph\r\n",
        "\r\n",
        "plt.figure(figsize=(10,5))\r\n",
        "plt.axhline(y=0,color='black')\r\n",
        "plt.axvline(x=0,color='black')\r\n",
        "plt.grid()\r\n",
        "\r\n",
        "## Plotting the roots in the graph\r\n",
        "plt.plot(X,Y,color='blue')\r\n",
        "plt.scatter([x0],[0], c='red', label='roots')\r\n",
        "\r\n",
        "plt.legend()\r\n",
        "plt.show()"
      ],
      "execution_count": null,
      "outputs": [
        {
          "output_type": "display_data",
          "data": {
            "image/png": "[encoded data removed]",
            "text/plain": [
              "<Figure size 720x360 with 1 Axes>"
            ]
          },
          "metadata": {
            "tags": [],
            "needs_background": "light"
          }
        }
      ]
    },
    {
      "cell_type": "code",
      "metadata": {
        "id": "n9DP8WGRdFw1"
      },
      "source": [
        ""
      ],
      "execution_count": null,
      "outputs": []
    }
  ]
}